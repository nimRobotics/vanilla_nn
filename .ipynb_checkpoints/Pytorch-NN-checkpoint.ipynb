{
 "cells": [
  {
   "cell_type": "code",
   "execution_count": 1,
   "metadata": {},
   "outputs": [
    {
     "name": "stdout",
     "output_type": "stream",
     "text": [
      "Train data label dim: (10000,)\n",
      "Train data features dim: (10000, 784)\n",
      "Test data label dim: (5000,)\n",
      "Test data features dim:(5000, 784)\n"
     ]
    }
   ],
   "source": [
    "import numpy as np\n",
    "# from utils import visualise\n",
    "from read_mnist import load_data\n",
    "import random\n",
    "\n",
    "y_train,x_train,y_test,x_test=load_data()\n",
    "\n",
    "print(\"Train data label dim: {}\".format(y_train.shape))\n",
    "print(\"Train data features dim: {}\".format(x_train.shape))\n",
    "print(\"Test data label dim: {}\".format(y_test.shape))\n",
    "print(\"Test data features dim:{}\".format(x_test.shape))\n",
    "\n",
    "# visualise(x_train)"
   ]
  },
  {
   "cell_type": "code",
   "execution_count": 6,
   "metadata": {
    "scrolled": false
   },
   "outputs": [
    {
     "name": "stdout",
     "output_type": "stream",
     "text": [
      "==>>> device is cuda\n",
      "==>>> total trainning batch number: 79\n",
      "==>>> total testing batch number: 40\n",
      "==>>> total number of batches are: 128\n",
      "==>>> input shape of a batch is: torch.Size([128, 1, 28, 28])\n",
      "==>>> labels shape of a batch is: torch.Size([128])\n",
      "NeuralNet(\n",
      "  (layer1): Sequential(\n",
      "    (0): Linear(in_features=784, out_features=256, bias=True)\n",
      "    (1): Sigmoid()\n",
      "  )\n",
      "  (layer2): Sequential(\n",
      "    (0): Linear(in_features=256, out_features=10, bias=True)\n",
      "    (1): Softmax(dim=0)\n",
      "  )\n",
      ")\n",
      "epoch is 0/1000 loss is: 2.303114414215088\n",
      "epoch is 50/1000 loss is: 2.2976555824279785\n",
      "epoch is 100/1000 loss is: 2.2790513038635254\n",
      "epoch is 150/1000 loss is: 2.214959144592285\n",
      "epoch is 200/1000 loss is: 2.1111319065093994\n",
      "epoch is 250/1000 loss is: 2.1022939682006836\n",
      "epoch is 300/1000 loss is: 2.086416721343994\n",
      "epoch is 350/1000 loss is: 1.9356523752212524\n",
      "epoch is 400/1000 loss is: 2.072195053100586\n",
      "epoch is 450/1000 loss is: 1.9827171564102173\n",
      "epoch is 500/1000 loss is: 1.9084596633911133\n",
      "epoch is 550/1000 loss is: 1.916651725769043\n",
      "epoch is 600/1000 loss is: 1.8990060091018677\n",
      "epoch is 650/1000 loss is: 2.019944906234741\n",
      "epoch is 700/1000 loss is: 1.9379678964614868\n",
      "epoch is 750/1000 loss is: 1.898672103881836\n",
      "epoch is 800/1000 loss is: 1.9038028717041016\n",
      "epoch is 850/1000 loss is: 1.839512586593628\n",
      "epoch is 900/1000 loss is: 1.9815634489059448\n",
      "epoch is 950/1000 loss is: 2.013186454772949\n",
      "Accuracy of the network is: 82.26%\n"
     ]
    },
    {
     "data": {
      "image/png": "[encoded data removed]",
      "text/plain": [
       "<Figure size 432x288 with 1 Axes>"
      ]
     },
     "metadata": {
      "needs_background": "light"
     },
     "output_type": "display_data"
    }
   ],
   "source": [
    "import torch\n",
    "import torch.nn as nn\n",
    "import numpy as np\n",
    "import matplotlib.pyplot as plt\n",
    "import os\n",
    "from torchvision import transforms, datasets\n",
    "from model import NeuralNet\n",
    "import warnings\n",
    "warnings.filterwarnings(\"ignore\", category=DeprecationWarning) \n",
    "\n",
    "device = torch.device('cuda' if torch.cuda.is_available else 'cpu')\n",
    "print(\"==>>> device is\", device)\n",
    "\n",
    "# Hyper-parameters \n",
    "input_size = 784\n",
    "hidden_size = 256\n",
    "num_classes = 10\n",
    "num_epochs = 1000\n",
    "lr = 0.1\n",
    "batch_size = 128  \n",
    "\n",
    "train_set = []\n",
    "for i in range(x_train.shape[0]):\n",
    "    train_set.append((  torch.Tensor(x_train[i].reshape(-1, 28, 28)), y_train[i] )) \n",
    "\n",
    "test_set = []\n",
    "for i in range(x_test.shape[0]):\n",
    "    test_set.append((  torch.Tensor(x_test[i].reshape(-1, 28, 28)), y_test[i] )) \n",
    "\n",
    "train_loader = torch.utils.data.DataLoader(\n",
    "                 dataset=train_set,\n",
    "                 batch_size=batch_size,\n",
    "                 shuffle=True)\n",
    "test_loader = torch.utils.data.DataLoader(\n",
    "                dataset=test_set,\n",
    "                batch_size=batch_size,\n",
    "                shuffle=False)\n",
    "print(\"==>>> total trainning batch number: {}\".format(len(train_loader)))\n",
    "print(\"==>>> total testing batch number: {}\".format(len(test_loader)))\n",
    "print(\"==>>> total number of batches are: {}\".format(batch_size))\n",
    "\n",
    "for index, batch in enumerate(train_loader):\n",
    "    inputs = batch[0]\n",
    "    labels = batch[1]\n",
    "    if(index == 0):\n",
    "        print(\"==>>> input shape of a batch is: {}\".format(inputs.shape))\n",
    "        print(\"==>>> labels shape of a batch is: {}\".format(labels.shape))\n",
    "        \n",
    "\n",
    "model = NeuralNet(input_size, hidden_size, num_classes).to(device)\n",
    "print(model)\n",
    "loss_fn = nn.CrossEntropyLoss()\n",
    "optimizer = torch.optim.SGD(model.parameters(), lr)\n",
    "\n",
    "num_batches = len(train_loader)\n",
    "train_loss = []\n",
    "epoch_counter = []\n",
    "cnt = 0\n",
    "for epoch in range(num_epochs):\n",
    "    for idx, (inputs, labels) in enumerate(train_loader):\n",
    "        inputs = inputs.reshape(-1,28*28).to(device)\n",
    "        labels = labels.to(device)\n",
    "        # Forward propagation        \n",
    "        outputs = model(inputs)\n",
    "        loss = loss_fn(outputs, labels)\n",
    "        # backward pass and make step         \n",
    "        optimizer.zero_grad()\n",
    "        loss.backward()\n",
    "        optimizer.step()\n",
    "        train_loss.append(loss.item())\n",
    "        cnt += 1\n",
    "        epoch_counter.append(cnt)\n",
    "    if(epoch%50==0):\n",
    "        print(\"epoch is {}/{} loss is: {}\".format(epoch, num_epochs, loss.item()))\n",
    "plt.plot(epoch_counter, train_loss)\n",
    "torch.save(model.state_dict(), 'model.pth')        \n",
    "torch.save(model.state_dict(), 'optimizer.pth')    \n",
    "with torch.no_grad():\n",
    "    correct = 0\n",
    "    total = 0\n",
    "    for idx, (inputs, labels) in enumerate(test_loader):\n",
    "        inputs = inputs.reshape(-1, 28*28).to(device)\n",
    "        labels = labels.to(device)\n",
    "        preds = model(inputs)\n",
    "        values, indices = torch.max(preds, 1)\n",
    "        total += labels.shape[0] \n",
    "        correct += (labels == indices).sum().item()\n",
    "    print(\"Accuracy of the network is: {}%\".format(100*correct / total) )\n"
   ]
  },
  {
   "cell_type": "code",
   "execution_count": null,
   "metadata": {},
   "outputs": [],
   "source": []
  },
  {
   "cell_type": "code",
   "execution_count": null,
   "metadata": {},
   "outputs": [],
   "source": []
  },
  {
   "cell_type": "code",
   "execution_count": null,
   "metadata": {},
   "outputs": [],
   "source": []
  }
 ],
 "metadata": {
  "kernelspec": {
   "display_name": "Python 3",
   "language": "python",
   "name": "python3"
  },
  "language_info": {
   "codemirror_mode": {
    "name": "ipython",
    "version": 3
   },
   "file_extension": ".py",
   "mimetype": "text/x-python",
   "name": "python",
   "nbconvert_exporter": "python",
   "pygments_lexer": "ipython3",
   "version": "3.6.9"
  }
 },
 "nbformat": 4,
 "nbformat_minor": 2
}
